{
  "cells": [
    {
      "cell_type": "markdown",
      "metadata": {
        "id": "b_h_VIe3_9Qq"
      },
      "source": [
        "# If-else"
      ]
    },
    {
      "cell_type": "code",
      "source": [
        " a = 200\n",
        " b = 33\n",
        " if b > a :\n",
        "  print (\"be is greater than a\")\n",
        " elif a==b :\n",
        "  print (\" a and b are equal\")\n",
        " else :\n",
        "  print (\"a is grearter than b\")\n"
      ],
      "metadata": {
        "colab": {
          "base_uri": "https://localhost:8080/"
        },
        "id": "Ql3KPoktAJPe",
        "outputId": "19a6b967-7349-45cf-d98c-e95d9d2ee065"
      },
      "execution_count": 8,
      "outputs": [
        {
          "output_type": "stream",
          "name": "stdout",
          "text": [
            "a is grearter than b\n"
          ]
        }
      ]
    },
    {
      "cell_type": "code",
      "execution_count": null,
      "metadata": {
        "id": "3CcaYXma_9Qs",
        "outputId": "9f25247d-e237-42b4-e73d-187acb5d353a"
      },
      "outputs": [
        {
          "name": "stdout",
          "output_type": "stream",
          "text": [
            "m positive hu be\n",
            "mai jhukega nhi sala\n"
          ]
        }
      ],
      "source": [
        " num = 10\n",
        " if (-1) :                             # 0 , None , False are treated as 0 rest are non zero\n",
        "    print(\"m positive hu be\")\n",
        " print(\"mai jhukega nhi sala\")"
      ]
    },
    {
      "cell_type": "code",
      "execution_count": null,
      "metadata": {
        "id": "c_A6LJ8J_9Qu",
        "outputId": "3ac95a93-04d9-423e-c6a5-c85a934c4a4f"
      },
      "outputs": [
        {
          "name": "stdout",
          "output_type": "stream",
          "text": [
            "m positive hu be\n"
          ]
        }
      ],
      "source": [
        "num = 12\n",
        "if num > 10:\n",
        "    print(\"m positive hu be\")\n",
        "else:\n",
        "    print(\"kyu bete mauj krdi\")"
      ]
    },
    {
      "cell_type": "code",
      "execution_count": null,
      "metadata": {
        "id": "Lc4ODngf_9Qu",
        "outputId": "b4e7a97b-82ee-4759-8aa0-cba33e444d11"
      },
      "outputs": [
        {
          "name": "stdout",
          "output_type": "stream",
          "text": [
            "negative hu be\n"
          ]
        }
      ],
      "source": [
        "num = 10.5\n",
        "if num > 10.6:\n",
        "    print(\"Postive hu be\")\n",
        "elif num == 0:\n",
        "    print(\"zero hu be\")\n",
        "else:\n",
        "    print(\"negative hu be\")"
      ]
    },
    {
      "cell_type": "code",
      "execution_count": null,
      "metadata": {
        "id": "qPHZ3n_T_9Qv",
        "outputId": "a0dc56ff-80ed-47ca-8d99-023749509980"
      },
      "outputs": [
        {
          "name": "stdout",
          "output_type": "stream",
          "text": [
            "zero nhi hu be\n"
          ]
        }
      ],
      "source": [
        "num = 15\n",
        "if num >= 12:\n",
        "    if num == 0:\n",
        "        print(\"zero hu be\")\n",
        "    else:\n",
        "        print(\"zero nhi hu be\")\n",
        "else:\n",
        "    print(\"negative hu be\")"
      ]
    },
    {
      "cell_type": "code",
      "execution_count": null,
      "metadata": {
        "id": "uBWQpvCs_9Qv",
        "outputId": "19ae1043-4b33-4b53-dc92-1c2b737150f5"
      },
      "outputs": [
        {
          "name": "stdout",
          "output_type": "stream",
          "text": [
            "largest value is  14\n"
          ]
        }
      ],
      "source": [
        "# Python program to find the largest number among the three input numbers\n",
        "\n",
        "# change the values of num1, num2 and num3\n",
        "# for a different result\n",
        "a = 10\n",
        "b = 14\n",
        "c = 12\n",
        "\n",
        "# uncomment following lines to take three numbers from user\n",
        "#num1 = float(input(\"Enter first number: \"))\n",
        "#num2 = float(input(\"Enter second number: \"))\n",
        "#num3 = float(input(\"Enter third number: \"))\n",
        "\n",
        "if a>b:\n",
        "    if a>c:\n",
        "        k=a;\n",
        "    else:\n",
        "        k=c;\n",
        "else:\n",
        "    if b>c:\n",
        "        k=b;\n",
        "    else:\n",
        "        k=c;\n",
        "print(\"largest value is \",k)"
      ]
    },
    {
      "cell_type": "code",
      "execution_count": null,
      "metadata": {
        "id": "P4S5Sl9a_9Qv"
      },
      "outputs": [],
      "source": []
    }
  ],
  "metadata": {
    "kernelspec": {
      "display_name": "Python 3 (ipykernel)",
      "language": "python",
      "name": "python3"
    },
    "language_info": {
      "codemirror_mode": {
        "name": "ipython",
        "version": 3
      },
      "file_extension": ".py",
      "mimetype": "text/x-python",
      "name": "python",
      "nbconvert_exporter": "python",
      "pygments_lexer": "ipython3",
      "version": "3.8.5"
    },
    "colab": {
      "provenance": []
    }
  },
  "nbformat": 4,
  "nbformat_minor": 0
}